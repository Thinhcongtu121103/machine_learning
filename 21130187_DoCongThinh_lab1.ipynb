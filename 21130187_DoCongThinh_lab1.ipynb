{
  "nbformat": 4,
  "nbformat_minor": 0,
  "metadata": {
    "colab": {
      "provenance": [],
      "authorship_tag": "ABX9TyMz04MHTnvu42WN2q69wCpj",
      "include_colab_link": true
    },
    "kernelspec": {
      "name": "python3",
      "display_name": "Python 3"
    },
    "language_info": {
      "name": "python"
    }
  },
  "cells": [
    {
      "cell_type": "markdown",
      "metadata": {
        "id": "view-in-github",
        "colab_type": "text"
      },
      "source": [
        "<a href=\"https://colab.research.google.com/github/Thinhcongtu121103/machine_learning/blob/main/21130187_DoCongThinh_lab1.ipynb\" target=\"_parent\"><img src=\"https://colab.research.google.com/assets/colab-badge.svg\" alt=\"Open In Colab\"/></a>"
      ]
    },
    {
      "cell_type": "code",
      "execution_count": null,
      "metadata": {
        "colab": {
          "base_uri": "https://localhost:8080/"
        },
        "id": "uEHqKZIYC92x",
        "outputId": "e8b67db0-4cab-4609-baa2-1c50a3885496"
      },
      "outputs": [
        {
          "output_type": "stream",
          "name": "stdout",
          "text": [
            "Nhap so n: 5\n",
            "Nhap tiep so : -4\n",
            "Nhap tiep so : -3\n",
            "Nhap tiep so : 2\n",
            "Nhap tiep so : 1\n",
            "Nhap tiep so : 0\n",
            "So lon nhat:  2\n",
            "So be nhat:  -4\n",
            "Tong:  -4\n",
            "[-4, -3, 0, 1, 2]\n",
            "So lon hon 0:  2\n",
            "So be hon 0:  2\n"
          ]
        }
      ],
      "source": [
        "def main():\n",
        "  n = int(input(\"Nhap so n: \"))\n",
        "\n",
        "  Array = []\n",
        "  for i in range(n):\n",
        "    x = int(input(\"Nhap tiep so : \"))\n",
        "    Array.append(x)\n",
        "\n",
        "  max_n = max(Array)\n",
        "  min_n = min(Array)\n",
        "\n",
        "  sum_n = sum(Array)\n",
        "\n",
        "  Array.sort()\n",
        "\n",
        "  pos_count = sum(1 for x in Array if x > 0)\n",
        "  neg_count = sum(1 for x in Array if x < 0)\n",
        "\n",
        "  print('So lon nhat: ', max_n)\n",
        "  print('So be nhat: ', min_n)\n",
        "  print('Tong: ', sum_n)\n",
        "  print(Array)\n",
        "  print('So lon hon 0: ', pos_count)\n",
        "  print('So be hon 0: ', neg_count)\n",
        "\n",
        "if __name__ == \"__main__\":\n",
        "    main()\n"
      ]
    }
  ]
}