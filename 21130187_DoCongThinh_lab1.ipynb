{
  "nbformat": 4,
  "nbformat_minor": 0,
  "metadata": {
    "colab": {
      "provenance": [],
      "authorship_tag": "ABX9TyOROWvE4SKT8nG65ioC0roz",
      "include_colab_link": true
    },
    "kernelspec": {
      "name": "python3",
      "display_name": "Python 3"
    },
    "language_info": {
      "name": "python"
    }
  },
  "cells": [
    {
      "cell_type": "markdown",
      "metadata": {
        "id": "view-in-github",
        "colab_type": "text"
      },
      "source": [
        "<a href=\"https://colab.research.google.com/github/Thinhcongtu121103/machine_learning/blob/main/21130187_DoCongThinh_lab1.ipynb\" target=\"_parent\"><img src=\"https://colab.research.google.com/assets/colab-badge.svg\" alt=\"Open In Colab\"/></a>"
      ]
    },
    {
      "cell_type": "code",
      "execution_count": 16,
      "metadata": {
        "colab": {
          "base_uri": "https://localhost:8080/"
        },
        "id": "uEHqKZIYC92x",
        "outputId": "f0a84de9-1f13-4e4b-d24f-b92d1134feb5"
      },
      "outputs": [
        {
          "output_type": "stream",
          "name": "stdout",
          "text": [
            "Nhap so n:3\n",
            "9\n"
          ]
        }
      ],
      "source": [
        "# Task 1\n",
        "# Task 1.1\n",
        "def main():\n",
        "  n = int(input(\"Nhap so n: \"))\n",
        "\n",
        "  Array = []\n",
        "  for i in range(n):\n",
        "    x = int(input(\"Nhap tiep so : \"))\n",
        "    Array.append(x)\n",
        "\n",
        "  max_n = max(Array)\n",
        "  min_n = min(Array)\n",
        "\n",
        "  sum_n = sum(Array)\n",
        "\n",
        "  Array.sort()\n",
        "\n",
        "  pos_count = sum(1 for x in Array if x > 0)\n",
        "  neg_count = sum(1 for x in Array if x < 0)\n",
        "\n",
        "  print('So lon nhat: ', max_n)\n",
        "  print('So be nhat: ', min_n)\n",
        "  print('Tong: ', sum_n)\n",
        "  print(Array)\n",
        "  print('So lon hon 0: ', pos_count)\n",
        "  print('So be hon 0: ', neg_count)\n",
        "\n",
        "# if __name__ == \"__main__\":\n",
        "#     main()\n",
        "\n",
        "# Task 1.2\n",
        "def compute_S(n):\n",
        "  if n <= 0:\n",
        "    return \"n phai lon hon 0\"\n",
        "  result = 0\n",
        "  factor = 1\n",
        "  for i in range(1, n + 1):\n",
        "    factor *= i\n",
        "    result += factor\n",
        "  return result\n",
        "\n",
        "n = int(input(\"Nhap so n:\"))\n",
        "# result = compute_S(n)\n",
        "# print(result)\n",
        "\n",
        "# Task 1.3\n",
        "\n"
      ]
    }
  ]
}